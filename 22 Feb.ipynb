{
 "cells": [
  {
   "cell_type": "markdown",
   "id": "e2ce9eb1",
   "metadata": {},
   "source": [
    "# Go to this given URL and solve the following questions\n",
    "URL: https://www.youtube.com/@PW-Foundation/videos"
   ]
  },
  {
   "cell_type": "code",
   "execution_count": 1,
   "id": "8a05a673",
   "metadata": {},
   "outputs": [
    {
     "name": "stdout",
     "output_type": "stream",
     "text": [
      "Requirement already satisfied: selenium in c:\\users\\welcome\\anaconda3\\lib\\site-packages (4.16.0)\n",
      "Requirement already satisfied: urllib3[socks]<3,>=1.26 in c:\\users\\welcome\\anaconda3\\lib\\site-packages (from selenium) (1.26.16)\n",
      "Requirement already satisfied: trio~=0.17 in c:\\users\\welcome\\anaconda3\\lib\\site-packages (from selenium) (0.24.0)\n",
      "Requirement already satisfied: trio-websocket~=0.9 in c:\\users\\welcome\\anaconda3\\lib\\site-packages (from selenium) (0.11.1)\n",
      "Requirement already satisfied: certifi>=2021.10.8 in c:\\users\\welcome\\anaconda3\\lib\\site-packages (from selenium) (2023.7.22)\n",
      "Requirement already satisfied: attrs>=20.1.0 in c:\\users\\welcome\\anaconda3\\lib\\site-packages (from trio~=0.17->selenium) (22.1.0)\n",
      "Requirement already satisfied: sortedcontainers in c:\\users\\welcome\\anaconda3\\lib\\site-packages (from trio~=0.17->selenium) (2.4.0)\n",
      "Requirement already satisfied: idna in c:\\users\\welcome\\anaconda3\\lib\\site-packages (from trio~=0.17->selenium) (3.4)\n",
      "Requirement already satisfied: outcome in c:\\users\\welcome\\anaconda3\\lib\\site-packages (from trio~=0.17->selenium) (1.3.0.post0)\n",
      "Requirement already satisfied: sniffio>=1.3.0 in c:\\users\\welcome\\anaconda3\\lib\\site-packages (from trio~=0.17->selenium) (1.3.0)\n",
      "Requirement already satisfied: cffi>=1.14 in c:\\users\\welcome\\anaconda3\\lib\\site-packages (from trio~=0.17->selenium) (1.15.1)\n",
      "Requirement already satisfied: wsproto>=0.14 in c:\\users\\welcome\\anaconda3\\lib\\site-packages (from trio-websocket~=0.9->selenium) (1.2.0)\n",
      "Requirement already satisfied: PySocks!=1.5.7,<2.0,>=1.5.6 in c:\\users\\welcome\\anaconda3\\lib\\site-packages (from urllib3[socks]<3,>=1.26->selenium) (1.7.1)\n",
      "Requirement already satisfied: pycparser in c:\\users\\welcome\\anaconda3\\lib\\site-packages (from cffi>=1.14->trio~=0.17->selenium) (2.21)\n",
      "Requirement already satisfied: h11<1,>=0.9.0 in c:\\users\\welcome\\anaconda3\\lib\\site-packages (from wsproto>=0.14->trio-websocket~=0.9->selenium) (0.14.0)\n",
      "Note: you may need to restart the kernel to use updated packages.\n"
     ]
    }
   ],
   "source": [
    "pip install selenium"
   ]
  },
  {
   "cell_type": "code",
   "execution_count": 2,
   "id": "df47a6b2",
   "metadata": {},
   "outputs": [
    {
     "name": "stdout",
     "output_type": "stream",
     "text": [
      "Requirement already satisfied: bs4 in c:\\users\\welcome\\anaconda3\\lib\\site-packages (0.0.2)\n",
      "Requirement already satisfied: beautifulsoup4 in c:\\users\\welcome\\anaconda3\\lib\\site-packages (from bs4) (4.12.2)\n",
      "Requirement already satisfied: soupsieve>1.2 in c:\\users\\welcome\\anaconda3\\lib\\site-packages (from beautifulsoup4->bs4) (2.4)\n",
      "Note: you may need to restart the kernel to use updated packages.\n"
     ]
    }
   ],
   "source": [
    "pip install bs4"
   ]
  },
  {
   "cell_type": "code",
   "execution_count": 3,
   "id": "7a2ec6ca",
   "metadata": {},
   "outputs": [],
   "source": [
    "from selenium import webdriver\n",
    "import pandas as pd\n",
    "from selenium.webdriver.common.by import By\n",
    "from bs4 import BeautifulSoup"
   ]
  },
  {
   "cell_type": "code",
   "execution_count": 4,
   "id": "d1de2ab4",
   "metadata": {},
   "outputs": [],
   "source": [
    "browser = webdriver.Chrome()"
   ]
  },
  {
   "cell_type": "code",
   "execution_count": 5,
   "id": "bdb224a3",
   "metadata": {},
   "outputs": [],
   "source": [
    "url = \"https://www.youtube.com/@PW-Foundation/videos\""
   ]
  },
  {
   "cell_type": "code",
   "execution_count": 6,
   "id": "80ed203a",
   "metadata": {},
   "outputs": [],
   "source": [
    "browser.get(url)"
   ]
  },
  {
   "cell_type": "markdown",
   "id": "89bb0d44",
   "metadata": {},
   "source": [
    "## Q1. Write a python program to extract the video URL of the first five videos."
   ]
  },
  {
   "cell_type": "code",
   "execution_count": 7,
   "id": "bfbc2c19",
   "metadata": {},
   "outputs": [
    {
     "data": {
      "text/plain": [
       "['https://www.youtube.com/watch?v=5bRZ5yYF5Mw',\n",
       " 'https://www.youtube.com/watch?v=kGGlONm9GW0',\n",
       " 'https://www.youtube.com/watch?v=aBLasjkB4UU',\n",
       " 'https://www.youtube.com/watch?v=fXDjD7Nd1OA',\n",
       " 'https://www.youtube.com/watch?v=jyXIhE28Enc']"
      ]
     },
     "execution_count": 7,
     "metadata": {},
     "output_type": "execute_result"
    }
   ],
   "source": [
    "#Finding Video Url by using Tag Name\n",
    "links = browser.find_elements(By.TAG_NAME,\"a\")\n",
    "video_urls = []\n",
    "for i in links:\n",
    "    url = i.get_attribute(\"href\")\n",
    "    video_urls.append(url)\n",
    "    \n",
    "first_5_video_links = []\n",
    "for url in video_urls:\n",
    "    if url == None or \"/watch?v=\" not in url or url in first_5_video_links:\n",
    "        continue\n",
    "    else:\n",
    "        if len(first_5_video_links) == 5:\n",
    "            break\n",
    "        first_5_video_links.append(url)\n",
    "first_5_video_links"
   ]
  },
  {
   "cell_type": "markdown",
   "id": "3a8a3c44",
   "metadata": {},
   "source": [
    "## Q2. Write a python program to extract the URL of the video thumbnails of the first five videos."
   ]
  },
  {
   "cell_type": "code",
   "execution_count": 8,
   "id": "60fbb04d",
   "metadata": {},
   "outputs": [
    {
     "data": {
      "text/plain": [
       "['https://i.ytimg.com/vi/5bRZ5yYF5Mw/hqdefault.jpg?sqp=-oaymwEcCNACELwBSFXyq4qpAw4IARUAAIhCGAFwAcABBg==&rs=AOn4CLDqrIEoOIgMisfyEdnXNazjxORNzw',\n",
       " 'https://i.ytimg.com/vi/kGGlONm9GW0/hqdefault.jpg?sqp=-oaymwEcCNACELwBSFXyq4qpAw4IARUAAIhCGAFwAcABBg==&rs=AOn4CLCrcnK4z60xMrnpkhFRnr1oE0QGaQ',\n",
       " 'https://i.ytimg.com/vi/aBLasjkB4UU/hqdefault.jpg?sqp=-oaymwEcCNACELwBSFXyq4qpAw4IARUAAIhCGAFwAcABBg==&rs=AOn4CLCIlj5ojb7_H_hyU-SzhOQTw_1sPQ',\n",
       " 'Url Not found']"
      ]
     },
     "execution_count": 8,
     "metadata": {},
     "output_type": "execute_result"
    }
   ],
   "source": [
    "thumbnail = browser.find_elements(By.XPATH,\"//*[@id='thumbnail']/yt-image/img\")\n",
    "thumbnail_list=[]\n",
    "for i in thumbnail:\n",
    "    t=i.get_attribute(\"src\")\n",
    "    if t == None:\n",
    "        continue\n",
    "    thumbnail_list.append(t)\n",
    "    \n",
    "thumbnail_list.append(\"Url Not found\")\n",
    "thumbnail_list"
   ]
  },
  {
   "cell_type": "markdown",
   "id": "34aa81a8",
   "metadata": {},
   "source": [
    "## Q3. Write a python program to extract the title of the first five videos."
   ]
  },
  {
   "cell_type": "code",
   "execution_count": 9,
   "id": "595a2399",
   "metadata": {},
   "outputs": [
    {
     "data": {
      "text/plain": [
       "['Class 9th MATHS Most Important Chapters ✅ | Class 9th Maths के ये CHAPTERS हलके में मत लेना 😥',\n",
       " 'Launching The Most Demanding Batch for Class 9th !! NEEV 2.0 - Score 95%+ in Class 9th🔥',\n",
       " \"Launching India's Most DEMANDING Batch for Class 10th !! UDAAN 2.0 For Complete Course @2499/- 🔥\",\n",
       " 'Biggest Offer for Class 9th & 10th Students 🔥 #4SaalDumdaar',\n",
       " '1 Day To Go!🔥 Arjuna JEE/NEET 2.0 || Intezaar Hua Khatam ⚡️']"
      ]
     },
     "execution_count": 9,
     "metadata": {},
     "output_type": "execute_result"
    }
   ],
   "source": [
    "#Finding Title by using TagName\n",
    "yt_link=browser.find_elements(By.TAG_NAME, \"yt-formatted-string\")\n",
    "link =[]\n",
    "for i in yt_link:\n",
    "    temp=i.text\n",
    "    link.append(temp)\n",
    "link=link[26:]\n",
    "title = []\n",
    "for i in link:\n",
    "    if i == '':\n",
    "        continue\n",
    "    else:\n",
    "        if len(title)==5:\n",
    "            break\n",
    "        title.append(i)\n",
    "        \n",
    "title"
   ]
  },
  {
   "cell_type": "code",
   "execution_count": 10,
   "id": "577b92e9",
   "metadata": {},
   "outputs": [
    {
     "data": {
      "text/plain": [
       "['Class 10th में 95%+ लाने वाले बच्चे घटे ? 😱 Reason and Solution ✅',\n",
       " 'Class 9th MATHS Most Important Chapters ✅ | Class 9th Maths के ये CHAPTERS हलके में मत लेना 😥',\n",
       " 'Launching The Most Demanding Batch for Class 9th !! NEEV 2.0 - Score 95%+ in Class 9th🔥',\n",
       " \"Launching India's Most DEMANDING Batch for Class 10th !! UDAAN 2.0 For Complete Course @2499/- 🔥\",\n",
       " 'Biggest Offer for Class 9th & 10th Students 🔥 #4SaalDumdaar']"
      ]
     },
     "execution_count": 10,
     "metadata": {},
     "output_type": "execute_result"
    }
   ],
   "source": [
    "#Finding First 5 Title by using XPath\n",
    "you_link = browser.find_elements(By.XPATH,\"//*[@id='video-title']\")\n",
    "title_list = []\n",
    "for i in you_link:\n",
    "    t=i.text\n",
    "    if len(title_list) ==5:\n",
    "        break\n",
    "    title_list.append(t)\n",
    "    \n",
    "title_list"
   ]
  },
  {
   "cell_type": "markdown",
   "id": "96fe7c14",
   "metadata": {},
   "source": [
    "## Q4. Write a python program to extract the number of views of the first five videos."
   ]
  },
  {
   "cell_type": "code",
   "execution_count": 11,
   "id": "97c76729",
   "metadata": {},
   "outputs": [
    {
     "data": {
      "text/plain": [
       "['8.8K views', '7.3K views', '13K views', '26K views', '32K views']"
      ]
     },
     "execution_count": 11,
     "metadata": {},
     "output_type": "execute_result"
    }
   ],
   "source": [
    "views=browser.find_elements(By.XPATH,\"//*[@id='metadata-line']/span[1]\")\n",
    "views_list=[]\n",
    "for i in views:\n",
    "    t=i.text\n",
    "    if len(views_list) ==5:\n",
    "        break\n",
    "    views_list.append(t)\n",
    "    \n",
    "views_list"
   ]
  },
  {
   "cell_type": "markdown",
   "id": "51e69b46",
   "metadata": {},
   "source": [
    "## Q5. Write a python program to extract the time of posting of video for the first five videos."
   ]
  },
  {
   "cell_type": "code",
   "execution_count": 12,
   "id": "be76828f",
   "metadata": {},
   "outputs": [
    {
     "data": {
      "text/plain": [
       "['7 hours ago', '3 days ago', '9 days ago', '10 days ago', '11 days ago']"
      ]
     },
     "execution_count": 12,
     "metadata": {},
     "output_type": "execute_result"
    }
   ],
   "source": [
    "timee = browser.find_elements(By.XPATH,\"//*[@id='metadata-line']/span[2]\")\n",
    "time_list = []\n",
    "for i in timee:\n",
    "    t=i.text\n",
    "    if len(time_list) ==5:\n",
    "        break\n",
    "    time_list.append(t)\n",
    "    \n",
    "time_list"
   ]
  },
  {
   "cell_type": "markdown",
   "id": "e6400f4b",
   "metadata": {},
   "source": [
    "## Q6. Save all the data scraped in the above questions in a CSV file."
   ]
  },
  {
   "cell_type": "code",
   "execution_count": 17,
   "id": "2f7ad5fc",
   "metadata": {},
   "outputs": [],
   "source": [
    "import csv"
   ]
  },
  {
   "cell_type": "code",
   "execution_count": 21,
   "id": "d462dfd2",
   "metadata": {},
   "outputs": [],
   "source": [
    "reviews=[]\n",
    "for i in range(4):\n",
    "        mydict = {\"VideoLink\": str(first_5_video_links[i]),\"ThumbnailUrl\": str(thumbnail_list[i]),\"VideoTitle\": str(title_list[i]), \"Views\": str(views_list[i]), \"Time of Upload\": str(time_list[i])}\n",
    "        reviews.append(mydict)\n",
    "\n",
    "with open(\"Video_details.csv\", \"w\", newline='', encoding='utf-8') as fw:\n",
    "    headers = [\"VideoLink\",\"ThumbnailUrl\",\"VideoTitle\",\"Views\", \"Time of Upload\"]\n",
    "    writer = csv.DictWriter(fw, fieldnames=headers)\n",
    "    writer.writeheader()\n",
    "    writer.writerows(reviews)"
   ]
  },
  {
   "cell_type": "code",
   "execution_count": 23,
   "id": "3567fa32",
   "metadata": {},
   "outputs": [
    {
     "name": "stdout",
     "output_type": "stream",
     "text": [
      "['VideoLink', 'ThumbnailUrl', 'VideoTitle', 'Views', 'Time of Upload']\n",
      "['https://www.youtube.com/watch?v=5bRZ5yYF5Mw', 'https://i.ytimg.com/vi/5bRZ5yYF5Mw/hqdefault.jpg?sqp=-oaymwEcCNACELwBSFXyq4qpAw4IARUAAIhCGAFwAcABBg==&rs=AOn4CLDqrIEoOIgMisfyEdnXNazjxORNzw', 'Class 10th में 95%+ लाने वाले बच्चे घटे ? 😱 Reason and Solution ✅', '8.8K views', '7 hours ago']\n",
      "['https://www.youtube.com/watch?v=kGGlONm9GW0', 'https://i.ytimg.com/vi/kGGlONm9GW0/hqdefault.jpg?sqp=-oaymwEcCNACELwBSFXyq4qpAw4IARUAAIhCGAFwAcABBg==&rs=AOn4CLCrcnK4z60xMrnpkhFRnr1oE0QGaQ', 'Class 9th MATHS Most Important Chapters ✅ | Class 9th Maths के ये CHAPTERS हलके में मत लेना 😥', '7.3K views', '3 days ago']\n",
      "['https://www.youtube.com/watch?v=aBLasjkB4UU', 'https://i.ytimg.com/vi/aBLasjkB4UU/hqdefault.jpg?sqp=-oaymwEcCNACELwBSFXyq4qpAw4IARUAAIhCGAFwAcABBg==&rs=AOn4CLCIlj5ojb7_H_hyU-SzhOQTw_1sPQ', 'Launching The Most Demanding Batch for Class 9th !! NEEV 2.0 - Score 95%+ in Class 9th🔥', '13K views', '9 days ago']\n",
      "['https://www.youtube.com/watch?v=fXDjD7Nd1OA', 'Url Not found', \"Launching India's Most DEMANDING Batch for Class 10th !! UDAAN 2.0 For Complete Course @2499/- 🔥\", '26K views', '10 days ago']\n"
     ]
    }
   ],
   "source": [
    "with open(\"Video_details.csv\",'r',encoding=\"utf8\") as f:\n",
    "    read = csv.reader(f)\n",
    "    for i in read:\n",
    "        print(i)"
   ]
  }
 ],
 "metadata": {
  "kernelspec": {
   "display_name": "Python 3 (ipykernel)",
   "language": "python",
   "name": "python3"
  },
  "language_info": {
   "codemirror_mode": {
    "name": "ipython",
    "version": 3
   },
   "file_extension": ".py",
   "mimetype": "text/x-python",
   "name": "python",
   "nbconvert_exporter": "python",
   "pygments_lexer": "ipython3",
   "version": "3.11.5"
  }
 },
 "nbformat": 4,
 "nbformat_minor": 5
}
